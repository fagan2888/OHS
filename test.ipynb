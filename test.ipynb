{
 "cells": [
  {
   "cell_type": "code",
   "execution_count": 5,
   "metadata": {},
   "outputs": [],
   "source": [
    "%matplotlib inline\n",
    "import matplotlib\n",
    "matplotlib.rcParams[\"figure.figsize\"] = 20, 10\n",
    "import matplotlib.pyplot as plt"
   ]
  },
  {
   "cell_type": "code",
   "execution_count": 6,
   "metadata": {},
   "outputs": [],
   "source": [
    "from data_preprocsssing import *\n",
    "from pricing_models import *\n",
    "from hedging_strategies import *\n",
    "from volatility_models import WingModel\n",
    "from utils import pool_init\n",
    "import numpy as np\n",
    "import pandas as pd"
   ]
  },
  {
   "cell_type": "code",
   "execution_count": 7,
   "metadata": {},
   "outputs": [
    {
     "name": "stdout",
     "output_type": "stream",
     "text": [
      "Welcome to use Wind Quant API for Python (WindPy)!\n",
      "\n",
      "COPYRIGHT (C) 2017 WIND INFORMATION CO., LTD. ALL RIGHTS RESERVED.\n",
      "IN NO CIRCUMSTANCE SHALL WIND BE RESPONSIBLE FOR ANY DAMAGES OR LOSSES CAUSED BY USING WIND QUANT API FOR Python.\n"
     ]
    }
   ],
   "source": [
    "d_df, d_tkr2info = load_derivatives_df_n_cast()\n",
    "d_op_df, u_op_df, d_hp_df, u_hp_df, d_lp_df, u_lp_df, d_cp_df, u_cp_df = get_mkt_data_minutes(d_df, freq=15)"
   ]
  },
  {
   "cell_type": "code",
   "execution_count": 8,
   "metadata": {},
   "outputs": [
    {
     "data": {
      "text/html": [
       "<div>\n",
       "<style scoped>\n",
       "    .dataframe tbody tr th:only-of-type {\n",
       "        vertical-align: middle;\n",
       "    }\n",
       "\n",
       "    .dataframe tbody tr th {\n",
       "        vertical-align: top;\n",
       "    }\n",
       "\n",
       "    .dataframe thead th {\n",
       "        text-align: right;\n",
       "    }\n",
       "</style>\n",
       "<table border=\"1\" class=\"dataframe\">\n",
       "  <thead>\n",
       "    <tr style=\"text-align: right;\">\n",
       "      <th></th>\n",
       "      <th>IO2007-C-3400.CFE</th>\n",
       "      <th>IO2007-C-3450.CFE</th>\n",
       "      <th>IO2007-C-3500.CFE</th>\n",
       "      <th>IO2007-C-3550.CFE</th>\n",
       "      <th>IO2007-C-3600.CFE</th>\n",
       "      <th>IO2007-C-3650.CFE</th>\n",
       "      <th>IO2007-C-3700.CFE</th>\n",
       "      <th>IO2007-C-3750.CFE</th>\n",
       "      <th>IO2007-C-3800.CFE</th>\n",
       "      <th>IO2007-C-3850.CFE</th>\n",
       "      <th>...</th>\n",
       "      <th>IO2008-P-4100.CFE</th>\n",
       "      <th>IO2008-P-4150.CFE</th>\n",
       "      <th>IO2008-P-4200.CFE</th>\n",
       "      <th>IO2008-P-4250.CFE</th>\n",
       "      <th>IO2008-P-4300.CFE</th>\n",
       "      <th>IO2008-P-4350.CFE</th>\n",
       "      <th>IO2008-P-4400.CFE</th>\n",
       "      <th>IO2008-P-4450.CFE</th>\n",
       "      <th>IO2008-P-4500.CFE</th>\n",
       "      <th>IO2008-P-4550.CFE</th>\n",
       "    </tr>\n",
       "  </thead>\n",
       "  <tbody>\n",
       "    <tr>\n",
       "      <th>2020-04-21 09:45:00</th>\n",
       "      <td>NaN</td>\n",
       "      <td>NaN</td>\n",
       "      <td>297.0</td>\n",
       "      <td>NaN</td>\n",
       "      <td>227.0</td>\n",
       "      <td>NaN</td>\n",
       "      <td>172.2</td>\n",
       "      <td>NaN</td>\n",
       "      <td>125.8</td>\n",
       "      <td>NaN</td>\n",
       "      <td>...</td>\n",
       "      <td>NaN</td>\n",
       "      <td>NaN</td>\n",
       "      <td>NaN</td>\n",
       "      <td>NaN</td>\n",
       "      <td>NaN</td>\n",
       "      <td>NaN</td>\n",
       "      <td>NaN</td>\n",
       "      <td>NaN</td>\n",
       "      <td>NaN</td>\n",
       "      <td>NaN</td>\n",
       "    </tr>\n",
       "    <tr>\n",
       "      <th>2020-04-21 10:00:00</th>\n",
       "      <td>NaN</td>\n",
       "      <td>NaN</td>\n",
       "      <td>NaN</td>\n",
       "      <td>NaN</td>\n",
       "      <td>222.6</td>\n",
       "      <td>NaN</td>\n",
       "      <td>NaN</td>\n",
       "      <td>NaN</td>\n",
       "      <td>118.2</td>\n",
       "      <td>NaN</td>\n",
       "      <td>...</td>\n",
       "      <td>NaN</td>\n",
       "      <td>NaN</td>\n",
       "      <td>NaN</td>\n",
       "      <td>NaN</td>\n",
       "      <td>NaN</td>\n",
       "      <td>NaN</td>\n",
       "      <td>NaN</td>\n",
       "      <td>NaN</td>\n",
       "      <td>NaN</td>\n",
       "      <td>NaN</td>\n",
       "    </tr>\n",
       "    <tr>\n",
       "      <th>2020-04-21 10:15:00</th>\n",
       "      <td>NaN</td>\n",
       "      <td>NaN</td>\n",
       "      <td>278.0</td>\n",
       "      <td>NaN</td>\n",
       "      <td>213.0</td>\n",
       "      <td>NaN</td>\n",
       "      <td>NaN</td>\n",
       "      <td>NaN</td>\n",
       "      <td>NaN</td>\n",
       "      <td>NaN</td>\n",
       "      <td>...</td>\n",
       "      <td>NaN</td>\n",
       "      <td>NaN</td>\n",
       "      <td>NaN</td>\n",
       "      <td>NaN</td>\n",
       "      <td>NaN</td>\n",
       "      <td>NaN</td>\n",
       "      <td>NaN</td>\n",
       "      <td>NaN</td>\n",
       "      <td>NaN</td>\n",
       "      <td>NaN</td>\n",
       "    </tr>\n",
       "    <tr>\n",
       "      <th>2020-04-21 10:30:00</th>\n",
       "      <td>NaN</td>\n",
       "      <td>NaN</td>\n",
       "      <td>NaN</td>\n",
       "      <td>NaN</td>\n",
       "      <td>213.8</td>\n",
       "      <td>NaN</td>\n",
       "      <td>157.0</td>\n",
       "      <td>NaN</td>\n",
       "      <td>112.2</td>\n",
       "      <td>NaN</td>\n",
       "      <td>...</td>\n",
       "      <td>NaN</td>\n",
       "      <td>NaN</td>\n",
       "      <td>NaN</td>\n",
       "      <td>NaN</td>\n",
       "      <td>NaN</td>\n",
       "      <td>NaN</td>\n",
       "      <td>NaN</td>\n",
       "      <td>NaN</td>\n",
       "      <td>NaN</td>\n",
       "      <td>NaN</td>\n",
       "    </tr>\n",
       "    <tr>\n",
       "      <th>2020-04-21 10:45:00</th>\n",
       "      <td>NaN</td>\n",
       "      <td>NaN</td>\n",
       "      <td>265.8</td>\n",
       "      <td>NaN</td>\n",
       "      <td>202.0</td>\n",
       "      <td>NaN</td>\n",
       "      <td>153.6</td>\n",
       "      <td>126.0</td>\n",
       "      <td>108.6</td>\n",
       "      <td>NaN</td>\n",
       "      <td>...</td>\n",
       "      <td>NaN</td>\n",
       "      <td>NaN</td>\n",
       "      <td>NaN</td>\n",
       "      <td>NaN</td>\n",
       "      <td>NaN</td>\n",
       "      <td>NaN</td>\n",
       "      <td>NaN</td>\n",
       "      <td>NaN</td>\n",
       "      <td>NaN</td>\n",
       "      <td>NaN</td>\n",
       "    </tr>\n",
       "  </tbody>\n",
       "</table>\n",
       "<p>5 rows × 96 columns</p>\n",
       "</div>"
      ],
      "text/plain": [
       "                     IO2007-C-3400.CFE  IO2007-C-3450.CFE  IO2007-C-3500.CFE  \\\n",
       "2020-04-21 09:45:00                NaN                NaN              297.0   \n",
       "2020-04-21 10:00:00                NaN                NaN                NaN   \n",
       "2020-04-21 10:15:00                NaN                NaN              278.0   \n",
       "2020-04-21 10:30:00                NaN                NaN                NaN   \n",
       "2020-04-21 10:45:00                NaN                NaN              265.8   \n",
       "\n",
       "                     IO2007-C-3550.CFE  IO2007-C-3600.CFE  IO2007-C-3650.CFE  \\\n",
       "2020-04-21 09:45:00                NaN              227.0                NaN   \n",
       "2020-04-21 10:00:00                NaN              222.6                NaN   \n",
       "2020-04-21 10:15:00                NaN              213.0                NaN   \n",
       "2020-04-21 10:30:00                NaN              213.8                NaN   \n",
       "2020-04-21 10:45:00                NaN              202.0                NaN   \n",
       "\n",
       "                     IO2007-C-3700.CFE  IO2007-C-3750.CFE  IO2007-C-3800.CFE  \\\n",
       "2020-04-21 09:45:00              172.2                NaN              125.8   \n",
       "2020-04-21 10:00:00                NaN                NaN              118.2   \n",
       "2020-04-21 10:15:00                NaN                NaN                NaN   \n",
       "2020-04-21 10:30:00              157.0                NaN              112.2   \n",
       "2020-04-21 10:45:00              153.6              126.0              108.6   \n",
       "\n",
       "                     IO2007-C-3850.CFE  ...  IO2008-P-4100.CFE  \\\n",
       "2020-04-21 09:45:00                NaN  ...                NaN   \n",
       "2020-04-21 10:00:00                NaN  ...                NaN   \n",
       "2020-04-21 10:15:00                NaN  ...                NaN   \n",
       "2020-04-21 10:30:00                NaN  ...                NaN   \n",
       "2020-04-21 10:45:00                NaN  ...                NaN   \n",
       "\n",
       "                     IO2008-P-4150.CFE  IO2008-P-4200.CFE  IO2008-P-4250.CFE  \\\n",
       "2020-04-21 09:45:00                NaN                NaN                NaN   \n",
       "2020-04-21 10:00:00                NaN                NaN                NaN   \n",
       "2020-04-21 10:15:00                NaN                NaN                NaN   \n",
       "2020-04-21 10:30:00                NaN                NaN                NaN   \n",
       "2020-04-21 10:45:00                NaN                NaN                NaN   \n",
       "\n",
       "                     IO2008-P-4300.CFE  IO2008-P-4350.CFE  IO2008-P-4400.CFE  \\\n",
       "2020-04-21 09:45:00                NaN                NaN                NaN   \n",
       "2020-04-21 10:00:00                NaN                NaN                NaN   \n",
       "2020-04-21 10:15:00                NaN                NaN                NaN   \n",
       "2020-04-21 10:30:00                NaN                NaN                NaN   \n",
       "2020-04-21 10:45:00                NaN                NaN                NaN   \n",
       "\n",
       "                     IO2008-P-4450.CFE  IO2008-P-4500.CFE  IO2008-P-4550.CFE  \n",
       "2020-04-21 09:45:00                NaN                NaN                NaN  \n",
       "2020-04-21 10:00:00                NaN                NaN                NaN  \n",
       "2020-04-21 10:15:00                NaN                NaN                NaN  \n",
       "2020-04-21 10:30:00                NaN                NaN                NaN  \n",
       "2020-04-21 10:45:00                NaN                NaN                NaN  \n",
       "\n",
       "[5 rows x 96 columns]"
      ]
     },
     "execution_count": 8,
     "metadata": {},
     "output_type": "execute_result"
    }
   ],
   "source": [
    "d_op_df.head()"
   ]
  },
  {
   "cell_type": "code",
   "execution_count": 9,
   "metadata": {},
   "outputs": [
    {
     "data": {
      "text/html": [
       "<div>\n",
       "<style scoped>\n",
       "    .dataframe tbody tr th:only-of-type {\n",
       "        vertical-align: middle;\n",
       "    }\n",
       "\n",
       "    .dataframe tbody tr th {\n",
       "        vertical-align: top;\n",
       "    }\n",
       "\n",
       "    .dataframe thead th {\n",
       "        text-align: right;\n",
       "    }\n",
       "</style>\n",
       "<table border=\"1\" class=\"dataframe\">\n",
       "  <thead>\n",
       "    <tr style=\"text-align: right;\">\n",
       "      <th></th>\n",
       "      <th>000300.SH</th>\n",
       "    </tr>\n",
       "  </thead>\n",
       "  <tbody>\n",
       "    <tr>\n",
       "      <th>2020-04-21 09:45:00</th>\n",
       "      <td>3838.2314</td>\n",
       "    </tr>\n",
       "    <tr>\n",
       "      <th>2020-04-21 10:00:00</th>\n",
       "      <td>3822.0147</td>\n",
       "    </tr>\n",
       "    <tr>\n",
       "      <th>2020-04-21 10:15:00</th>\n",
       "      <td>3814.6914</td>\n",
       "    </tr>\n",
       "    <tr>\n",
       "      <th>2020-04-21 10:30:00</th>\n",
       "      <td>3813.7967</td>\n",
       "    </tr>\n",
       "    <tr>\n",
       "      <th>2020-04-21 10:45:00</th>\n",
       "      <td>3803.7664</td>\n",
       "    </tr>\n",
       "  </tbody>\n",
       "</table>\n",
       "</div>"
      ],
      "text/plain": [
       "                     000300.SH\n",
       "2020-04-21 09:45:00  3838.2314\n",
       "2020-04-21 10:00:00  3822.0147\n",
       "2020-04-21 10:15:00  3814.6914\n",
       "2020-04-21 10:30:00  3813.7967\n",
       "2020-04-21 10:45:00  3803.7664"
      ]
     },
     "execution_count": 9,
     "metadata": {},
     "output_type": "execute_result"
    }
   ],
   "source": [
    "u_op_df.head()"
   ]
  },
  {
   "cell_type": "code",
   "execution_count": 10,
   "metadata": {},
   "outputs": [],
   "source": [
    "assert len(d_op_df) == len(u_op_df)"
   ]
  },
  {
   "cell_type": "code",
   "execution_count": 11,
   "metadata": {},
   "outputs": [
    {
     "name": "stderr",
     "output_type": "stream",
     "text": [
      "C:\\Users\\hoore\\miniconda3\\envs\\work\\lib\\site-packages\\numpy\\lib\\function_base.py:2167: RuntimeWarning: invalid value encountered in ? (vectorized)\n",
      "  outputs = ufunc(*inputs)\n"
     ]
    }
   ],
   "source": [
    "d_t_df = add_info2p_df(d_op_df)\n",
    "\n",
    "op_iv_dct = gen_p_iv_gks_dct(d_df[\"d_code\"], d_t_df, u_op_df, d_tkr2info)"
   ]
  },
  {
   "cell_type": "code",
   "execution_count": 12,
   "metadata": {},
   "outputs": [],
   "source": [
    "from tqdm import tqdm"
   ]
  },
  {
   "cell_type": "code",
   "execution_count": 13,
   "metadata": {},
   "outputs": [
    {
     "name": "stderr",
     "output_type": "stream",
     "text": [
      "100%|████████████████████████████████████████████████████████████████████████████████| 672/672 [00:55<00:00, 12.06it/s]\n",
      "100%|████████████████████████████████████████████████████████████████████████████████| 672/672 [00:24<00:00, 27.99it/s]\n"
     ]
    }
   ],
   "source": [
    "mat_dt_lst = d_df.lst_dt.unique().tolist()\n",
    "\n",
    "df_lst = []\n",
    "for mdt in mat_dt_lst:\n",
    "    op_tkrs = d_df[d_df.lst_dt == pd.to_datetime(mdt)].d_code\n",
    "\n",
    "    c_mdl = WingModel(2.9, 2.9, vol_ref=0.2)\n",
    "    p_mdl = WingModel(2.9, 2.9, vol_ref=0.5)\n",
    "    \n",
    "    rst_lst = []\n",
    "    for t in tqdm(range(len(d_op_df))):\n",
    "        tdf = pd.DataFrame(data=[op_iv_dct[tkr].iloc[t, :] for tkr in op_tkrs], index=op_tkrs).loc[:, [\"K\", \"mkt_iv\", \"tp\"]]\n",
    "        tdf.sort_values(\"K\", inplace=True)\n",
    "\n",
    "        cdf = tdf[tdf.tp == \"c\"].dropna()\n",
    "        pdf = tdf[tdf.tp == \"p\"].dropna()\n",
    "\n",
    "        cdf[\"pos\"] = np.sign(c_mdl.fit(cdf.mkt_iv.values, cdf.K.values).predict(cdf.K.values) - cdf.mkt_iv.values)\n",
    "        pdf[\"pos\"] = np.sign(p_mdl.fit(pdf.mkt_iv.values, pdf.K.values).predict(pdf.K.values) - pdf.mkt_iv.values)\n",
    "\n",
    "        tdf[\"pos\"] = cdf[\"pos\"].append(pdf[\"pos\"])\n",
    "        rst_lst.append(tdf[\"pos\"])\n",
    "    \n",
    "    df = pd.concat(rst_lst, axis=1)\n",
    "    df_lst.append(df)"
   ]
  },
  {
   "cell_type": "code",
   "execution_count": 14,
   "metadata": {},
   "outputs": [],
   "source": [
    "pos_tgt_df = pd.concat(df_lst, axis=0).sort_index()\n",
    "pos_tgt_df.columns = d_op_df.index"
   ]
  },
  {
   "cell_type": "code",
   "execution_count": 15,
   "metadata": {},
   "outputs": [],
   "source": [
    "pos_tgt_df.fillna(0, inplace=True)"
   ]
  },
  {
   "cell_type": "code",
   "execution_count": 16,
   "metadata": {},
   "outputs": [],
   "source": [
    "pw_mat = np.vstack((pos_tgt_df.values, np.zeros((1, len(d_op_df))))).reshape(97, len(d_op_df), 1)"
   ]
  },
  {
   "cell_type": "code",
   "execution_count": 17,
   "metadata": {},
   "outputs": [],
   "source": [
    "rsk_tgt_mat = np.zeros((d_op_df.shape[0], 1), dtype=float)\n",
    "w_df, hr_df = calc_hedge_w_n_expo(op_iv_dct, u_op_df, pw_mat, rsk_tgt_mat, (-1,))\n",
    "pw_pnl_df, hg_pnl_df = calc_portfolio_pnl(w_df, d_op_df, d_hp_df, d_lp_df, d_cp_df, u_op_df, u_cp_df, pw_mat)"
   ]
  },
  {
   "cell_type": "code",
   "execution_count": 18,
   "metadata": {},
   "outputs": [
    {
     "data": {
      "text/plain": [
       "0.48214285714285715"
      ]
     },
     "execution_count": 18,
     "metadata": {},
     "output_type": "execute_result"
    }
   ],
   "source": [
    "(pw_pnl_df > 0).sum() / len(pw_pnl_df)"
   ]
  },
  {
   "cell_type": "code",
   "execution_count": 19,
   "metadata": {},
   "outputs": [
    {
     "data": {
      "text/plain": [
       "[<matplotlib.lines.Line2D at 0x2308b99eb20>]"
      ]
     },
     "execution_count": 19,
     "metadata": {},
     "output_type": "execute_result"
    },
    {
     "data": {
      "image/png": "[encoded data removed]",
      "text/plain": [
       "<Figure size 1440x720 with 1 Axes>"
      ]
     },
     "metadata": {
      "needs_background": "light"
     },
     "output_type": "display_data"
    }
   ],
   "source": [
    "plt.plot(pw_pnl_df.values.cumsum())"
   ]
  }
 ],
 "metadata": {
  "kernelspec": {
   "display_name": "Python 3",
   "language": "python",
   "name": "python3"
  },
  "language_info": {
   "codemirror_mode": {
    "name": "ipython",
    "version": 3
   },
   "file_extension": ".py",
   "mimetype": "text/x-python",
   "name": "python",
   "nbconvert_exporter": "python",
   "pygments_lexer": "ipython3",
   "version": "3.8.3"
  }
 },
 "nbformat": 4,
 "nbformat_minor": 4
}
